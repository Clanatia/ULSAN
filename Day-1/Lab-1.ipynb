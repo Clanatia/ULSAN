{
 "cells": [
  {
   "cell_type": "markdown",
   "metadata": {},
   "source": [
    "# Lab 1  : 텐서플로 기본연산하기"
   ]
  },
  {
   "cell_type": "markdown",
   "metadata": {},
   "source": [
    "## 텐서플로 설치 확인 (텐서플로의 Hello World!)"
   ]
  },
  {
   "cell_type": "code",
   "execution_count": 1,
   "metadata": {
    "collapsed": true
   },
   "outputs": [],
   "source": [
    "import tensorflow as tf"
   ]
  },
  {
   "cell_type": "markdown",
   "metadata": {},
   "source": [
    "Hello Tensorflow!!라는 상수값을 hello상수변수에 저장한다"
   ]
  },
  {
   "cell_type": "code",
   "execution_count": 2,
   "metadata": {
    "collapsed": false
   },
   "outputs": [],
   "source": [
    "hello = tf.constant('Hello Tensorflow!!')     #대입연산"
   ]
  },
  {
   "cell_type": "markdown",
   "metadata": {},
   "source": [
    "상수변수 hello를 print함수로 출력해본다"
   ]
  },
  {
   "cell_type": "code",
   "execution_count": 3,
   "metadata": {
    "collapsed": false
   },
   "outputs": [
    {
     "name": "stdout",
     "output_type": "stream",
     "text": [
      "Tensor(\"Const:0\", shape=(), dtype=string)\n"
     ]
    }
   ],
   "source": [
    "print(hello)"
   ]
  },
  {
   "cell_type": "code",
   "execution_count": 4,
   "metadata": {
    "collapsed": true
   },
   "outputs": [],
   "source": [
    "a = tf.constant(3)\n",
    "b = tf.constant(5)\n",
    "c = a + b\n",
    "d = c * 3 + a"
   ]
  },
  {
   "cell_type": "code",
   "execution_count": 5,
   "metadata": {
    "collapsed": true
   },
   "outputs": [],
   "source": [
    "sess = tf.Session()"
   ]
  },
  {
   "cell_type": "code",
   "execution_count": 6,
   "metadata": {
    "collapsed": true
   },
   "outputs": [],
   "source": [
    "result = sess.run(c)"
   ]
  },
  {
   "cell_type": "code",
   "execution_count": 7,
   "metadata": {
    "collapsed": false
   },
   "outputs": [
    {
     "name": "stdout",
     "output_type": "stream",
     "text": [
      "8\n"
     ]
    }
   ],
   "source": [
    "print(result)"
   ]
  },
  {
   "cell_type": "markdown",
   "metadata": {},
   "source": [
    "\"Hello Tensorflow!!\"라는 문자열이 출력되지 않고, 대입연산의 출력결과인 텐서의 형태만 반환이 된다. \n",
    "이는 아직 hello상수에 값이 대입되지 않았기 때문이다. 즉, hello상수에 값을 대입하는 연산(operation)은 아직 \n",
    "수행되지 않았고, 대입연산에 대한 정의만 graph에 추가된 것이다. (graph에 대한 설명은 밑에서).\n",
    "\"Const:0\"에서 \":0\"은 출력을 의미한다. 출력의 shape은 1차원이고, 자료형(dtype)은 string이다.\n",
    "\n",
    "정의한 대입연산이 수행되려면 먼저 세션을 열어야 한다:"
   ]
  },
  {
   "cell_type": "code",
   "execution_count": 8,
   "metadata": {
    "collapsed": true
   },
   "outputs": [],
   "source": [
    "sess = tf.Session()"
   ]
  },
  {
   "cell_type": "markdown",
   "metadata": {},
   "source": [
    "세션 sess을 이용하여 hello라는 값이 연산되도록 sess의 run함수를 실행하여 실행결과인 hello의 값을 result변수에\n",
    "저장한다. "
   ]
  },
  {
   "cell_type": "code",
   "execution_count": 9,
   "metadata": {
    "collapsed": true
   },
   "outputs": [],
   "source": [
    "result = sess.run(hello)"
   ]
  },
  {
   "cell_type": "markdown",
   "metadata": {},
   "source": [
    "result변수를 출력하면 \"Hello Tensorflow!!\"라는 문자열이 출력되는 것을 볼 수 있다."
   ]
  },
  {
   "cell_type": "code",
   "execution_count": 10,
   "metadata": {
    "collapsed": false
   },
   "outputs": [
    {
     "name": "stdout",
     "output_type": "stream",
     "text": [
      "b'Hello Tensorflow!!'\n"
     ]
    }
   ],
   "source": [
    "print(result)"
   ]
  },
  {
   "cell_type": "markdown",
   "metadata": {},
   "source": [
    "## 텐서플로의 자료형"
   ]
  },
  {
   "cell_type": "markdown",
   "metadata": {},
   "source": [
    "### 자료형 관련 내용은 조대협님 블로그(http://bcho.tistory.com/1153) 에서 발췌하였습니다. \n",
    "\n",
    "### 상수형"
   ]
  },
  {
   "cell_type": "markdown",
   "metadata": {},
   "source": [
    "간단한 수식에 대해서 다시 한번 확인. python의 수식의 결과는 다음과 같다."
   ]
  },
  {
   "cell_type": "code",
   "execution_count": 11,
   "metadata": {
    "collapsed": false
   },
   "outputs": [
    {
     "name": "stdout",
     "output_type": "stream",
     "text": [
      "1\n"
     ]
    }
   ],
   "source": [
    "x = 1\n",
    "print(x)"
   ]
  },
  {
   "cell_type": "code",
   "execution_count": 12,
   "metadata": {
    "collapsed": false
   },
   "outputs": [
    {
     "name": "stdout",
     "output_type": "stream",
     "text": [
      "10\n"
     ]
    }
   ],
   "source": [
    "y = x+9\n",
    "print(y)"
   ]
  },
  {
   "cell_type": "markdown",
   "metadata": {},
   "source": [
    "반면 tensorflow라이브러리를 이용한 연산결과는 다음과 같다. 마찬가지로 출력결과에 대한 형태만 출력된다."
   ]
  },
  {
   "cell_type": "code",
   "execution_count": 13,
   "metadata": {
    "collapsed": false
   },
   "outputs": [
    {
     "name": "stdout",
     "output_type": "stream",
     "text": [
      "Tensor(\"x:0\", shape=(), dtype=int32)\n"
     ]
    }
   ],
   "source": [
    "x = tf.constant(1,name = 'x')\n",
    "print(x)"
   ]
  },
  {
   "cell_type": "markdown",
   "metadata": {},
   "source": [
    "다음과 같이 세션을 열어서 x값을 출력하도록 한다. "
   ]
  },
  {
   "cell_type": "code",
   "execution_count": 14,
   "metadata": {
    "collapsed": false
   },
   "outputs": [
    {
     "name": "stdout",
     "output_type": "stream",
     "text": [
      "1\n"
     ]
    }
   ],
   "source": [
    "sess = tf.Session()\n",
    "result = sess.run(x)\n",
    "print(result)"
   ]
  },
  {
   "cell_type": "markdown",
   "metadata": {},
   "source": [
    "### 변수형"
   ]
  },
  {
   "cell_type": "markdown",
   "metadata": {},
   "source": [
    " 이번에는 변수형인 y를 선언하고 x+9라는 값을 할당해보자."
   ]
  },
  {
   "cell_type": "code",
   "execution_count": 15,
   "metadata": {
    "collapsed": false
   },
   "outputs": [],
   "source": [
    "x = tf.constant(1,name = 'x')\n",
    "y = tf.Variable(x+9,name = 'y') #변수형은 Variable로 선언된다."
   ]
  },
  {
   "cell_type": "markdown",
   "metadata": {},
   "source": [
    "다음과 같이 y변수를 출력하면 형태만 출력이 된다."
   ]
  },
  {
   "cell_type": "code",
   "execution_count": 16,
   "metadata": {
    "collapsed": false
   },
   "outputs": [
    {
     "name": "stdout",
     "output_type": "stream",
     "text": [
      "<tensorflow.python.ops.variables.Variable object at 0x7fc82c145c50>\n"
     ]
    }
   ],
   "source": [
    "print(y)"
   ]
  },
  {
   "cell_type": "markdown",
   "metadata": {},
   "source": [
    "상수형때와 마찬가지로 세션을 열어서 출력을 시도해본다."
   ]
  },
  {
   "cell_type": "code",
   "execution_count": 17,
   "metadata": {
    "collapsed": false
   },
   "outputs": [
    {
     "ename": "FailedPreconditionError",
     "evalue": "Attempting to use uninitialized value y\n\t [[Node: _send_y_0 = _Send[T=DT_INT32, client_terminated=true, recv_device=\"/job:localhost/replica:0/task:0/cpu:0\", send_device=\"/job:localhost/replica:0/task:0/cpu:0\", send_device_incarnation=-6536330151279835044, tensor_name=\"y:0\", _device=\"/job:localhost/replica:0/task:0/cpu:0\"](y)]]",
     "output_type": "error",
     "traceback": [
      "\u001b[0;31m---------------------------------------------------------------------------\u001b[0m",
      "\u001b[0;31mFailedPreconditionError\u001b[0m                   Traceback (most recent call last)",
      "\u001b[0;32m/usr/local/lib/python3.4/site-packages/tensorflow/python/client/session.py\u001b[0m in \u001b[0;36m_do_call\u001b[0;34m(self, fn, *args)\u001b[0m\n\u001b[1;32m    971\u001b[0m     \u001b[0;32mtry\u001b[0m\u001b[0;34m:\u001b[0m\u001b[0;34m\u001b[0m\u001b[0m\n\u001b[0;32m--> 972\u001b[0;31m       \u001b[0;32mreturn\u001b[0m \u001b[0mfn\u001b[0m\u001b[0;34m(\u001b[0m\u001b[0;34m*\u001b[0m\u001b[0margs\u001b[0m\u001b[0;34m)\u001b[0m\u001b[0;34m\u001b[0m\u001b[0m\n\u001b[0m\u001b[1;32m    973\u001b[0m     \u001b[0;32mexcept\u001b[0m \u001b[0merrors\u001b[0m\u001b[0;34m.\u001b[0m\u001b[0mOpError\u001b[0m \u001b[0;32mas\u001b[0m \u001b[0me\u001b[0m\u001b[0;34m:\u001b[0m\u001b[0;34m\u001b[0m\u001b[0m\n",
      "\u001b[0;32m/usr/local/lib/python3.4/site-packages/tensorflow/python/client/session.py\u001b[0m in \u001b[0;36m_run_fn\u001b[0;34m(session, feed_dict, fetch_list, target_list, options, run_metadata)\u001b[0m\n\u001b[1;32m    953\u001b[0m                                  \u001b[0mfeed_dict\u001b[0m\u001b[0;34m,\u001b[0m \u001b[0mfetch_list\u001b[0m\u001b[0;34m,\u001b[0m \u001b[0mtarget_list\u001b[0m\u001b[0;34m,\u001b[0m\u001b[0;34m\u001b[0m\u001b[0m\n\u001b[0;32m--> 954\u001b[0;31m                                  status, run_metadata)\n\u001b[0m\u001b[1;32m    955\u001b[0m \u001b[0;34m\u001b[0m\u001b[0m\n",
      "\u001b[0;32m/usr/local/lib/python3.4/contextlib.py\u001b[0m in \u001b[0;36m__exit__\u001b[0;34m(self, type, value, traceback)\u001b[0m\n\u001b[1;32m     65\u001b[0m             \u001b[0;32mtry\u001b[0m\u001b[0;34m:\u001b[0m\u001b[0;34m\u001b[0m\u001b[0m\n\u001b[0;32m---> 66\u001b[0;31m                 \u001b[0mnext\u001b[0m\u001b[0;34m(\u001b[0m\u001b[0mself\u001b[0m\u001b[0;34m.\u001b[0m\u001b[0mgen\u001b[0m\u001b[0;34m)\u001b[0m\u001b[0;34m\u001b[0m\u001b[0m\n\u001b[0m\u001b[1;32m     67\u001b[0m             \u001b[0;32mexcept\u001b[0m \u001b[0mStopIteration\u001b[0m\u001b[0;34m:\u001b[0m\u001b[0;34m\u001b[0m\u001b[0m\n",
      "\u001b[0;32m/usr/local/lib/python3.4/site-packages/tensorflow/python/framework/errors.py\u001b[0m in \u001b[0;36mraise_exception_on_not_ok_status\u001b[0;34m()\u001b[0m\n\u001b[1;32m    462\u001b[0m           \u001b[0mcompat\u001b[0m\u001b[0;34m.\u001b[0m\u001b[0mas_text\u001b[0m\u001b[0;34m(\u001b[0m\u001b[0mpywrap_tensorflow\u001b[0m\u001b[0;34m.\u001b[0m\u001b[0mTF_Message\u001b[0m\u001b[0;34m(\u001b[0m\u001b[0mstatus\u001b[0m\u001b[0;34m)\u001b[0m\u001b[0;34m)\u001b[0m\u001b[0;34m,\u001b[0m\u001b[0;34m\u001b[0m\u001b[0m\n\u001b[0;32m--> 463\u001b[0;31m           pywrap_tensorflow.TF_GetCode(status))\n\u001b[0m\u001b[1;32m    464\u001b[0m   \u001b[0;32mfinally\u001b[0m\u001b[0;34m:\u001b[0m\u001b[0;34m\u001b[0m\u001b[0m\n",
      "\u001b[0;31mFailedPreconditionError\u001b[0m: Attempting to use uninitialized value y\n\t [[Node: _send_y_0 = _Send[T=DT_INT32, client_terminated=true, recv_device=\"/job:localhost/replica:0/task:0/cpu:0\", send_device=\"/job:localhost/replica:0/task:0/cpu:0\", send_device_incarnation=-6536330151279835044, tensor_name=\"y:0\", _device=\"/job:localhost/replica:0/task:0/cpu:0\"](y)]]",
      "\nDuring handling of the above exception, another exception occurred:\n",
      "\u001b[0;31mFailedPreconditionError\u001b[0m                   Traceback (most recent call last)",
      "\u001b[0;32m<ipython-input-17-f7043c858ff8>\u001b[0m in \u001b[0;36m<module>\u001b[0;34m()\u001b[0m\n\u001b[1;32m      1\u001b[0m \u001b[0msess\u001b[0m \u001b[0;34m=\u001b[0m \u001b[0mtf\u001b[0m\u001b[0;34m.\u001b[0m\u001b[0mSession\u001b[0m\u001b[0;34m(\u001b[0m\u001b[0;34m)\u001b[0m\u001b[0;34m\u001b[0m\u001b[0m\n\u001b[0;32m----> 2\u001b[0;31m \u001b[0mresult\u001b[0m \u001b[0;34m=\u001b[0m \u001b[0msess\u001b[0m\u001b[0;34m.\u001b[0m\u001b[0mrun\u001b[0m\u001b[0;34m(\u001b[0m\u001b[0my\u001b[0m\u001b[0;34m)\u001b[0m\u001b[0;34m\u001b[0m\u001b[0m\n\u001b[0m\u001b[1;32m      3\u001b[0m \u001b[0mprint\u001b[0m\u001b[0;34m(\u001b[0m\u001b[0mresult\u001b[0m\u001b[0;34m)\u001b[0m\u001b[0;34m\u001b[0m\u001b[0m\n",
      "\u001b[0;32m/usr/local/lib/python3.4/site-packages/tensorflow/python/client/session.py\u001b[0m in \u001b[0;36mrun\u001b[0;34m(self, fetches, feed_dict, options, run_metadata)\u001b[0m\n\u001b[1;32m    715\u001b[0m     \u001b[0;32mtry\u001b[0m\u001b[0;34m:\u001b[0m\u001b[0;34m\u001b[0m\u001b[0m\n\u001b[1;32m    716\u001b[0m       result = self._run(None, fetches, feed_dict, options_ptr,\n\u001b[0;32m--> 717\u001b[0;31m                          run_metadata_ptr)\n\u001b[0m\u001b[1;32m    718\u001b[0m       \u001b[0;32mif\u001b[0m \u001b[0mrun_metadata\u001b[0m\u001b[0;34m:\u001b[0m\u001b[0;34m\u001b[0m\u001b[0m\n\u001b[1;32m    719\u001b[0m         \u001b[0mproto_data\u001b[0m \u001b[0;34m=\u001b[0m \u001b[0mtf_session\u001b[0m\u001b[0;34m.\u001b[0m\u001b[0mTF_GetBuffer\u001b[0m\u001b[0;34m(\u001b[0m\u001b[0mrun_metadata_ptr\u001b[0m\u001b[0;34m)\u001b[0m\u001b[0;34m\u001b[0m\u001b[0m\n",
      "\u001b[0;32m/usr/local/lib/python3.4/site-packages/tensorflow/python/client/session.py\u001b[0m in \u001b[0;36m_run\u001b[0;34m(self, handle, fetches, feed_dict, options, run_metadata)\u001b[0m\n\u001b[1;32m    913\u001b[0m     \u001b[0;32mif\u001b[0m \u001b[0mfinal_fetches\u001b[0m \u001b[0;32mor\u001b[0m \u001b[0mfinal_targets\u001b[0m\u001b[0;34m:\u001b[0m\u001b[0;34m\u001b[0m\u001b[0m\n\u001b[1;32m    914\u001b[0m       results = self._do_run(handle, final_targets, final_fetches,\n\u001b[0;32m--> 915\u001b[0;31m                              feed_dict_string, options, run_metadata)\n\u001b[0m\u001b[1;32m    916\u001b[0m     \u001b[0;32melse\u001b[0m\u001b[0;34m:\u001b[0m\u001b[0;34m\u001b[0m\u001b[0m\n\u001b[1;32m    917\u001b[0m       \u001b[0mresults\u001b[0m \u001b[0;34m=\u001b[0m \u001b[0;34m[\u001b[0m\u001b[0;34m]\u001b[0m\u001b[0;34m\u001b[0m\u001b[0m\n",
      "\u001b[0;32m/usr/local/lib/python3.4/site-packages/tensorflow/python/client/session.py\u001b[0m in \u001b[0;36m_do_run\u001b[0;34m(self, handle, target_list, fetch_list, feed_dict, options, run_metadata)\u001b[0m\n\u001b[1;32m    963\u001b[0m     \u001b[0;32mif\u001b[0m \u001b[0mhandle\u001b[0m \u001b[0;32mis\u001b[0m \u001b[0;32mNone\u001b[0m\u001b[0;34m:\u001b[0m\u001b[0;34m\u001b[0m\u001b[0m\n\u001b[1;32m    964\u001b[0m       return self._do_call(_run_fn, self._session, feed_dict, fetch_list,\n\u001b[0;32m--> 965\u001b[0;31m                            target_list, options, run_metadata)\n\u001b[0m\u001b[1;32m    966\u001b[0m     \u001b[0;32melse\u001b[0m\u001b[0;34m:\u001b[0m\u001b[0;34m\u001b[0m\u001b[0m\n\u001b[1;32m    967\u001b[0m       return self._do_call(_prun_fn, self._session, handle, feed_dict,\n",
      "\u001b[0;32m/usr/local/lib/python3.4/site-packages/tensorflow/python/client/session.py\u001b[0m in \u001b[0;36m_do_call\u001b[0;34m(self, fn, *args)\u001b[0m\n\u001b[1;32m    983\u001b[0m         \u001b[0;32mexcept\u001b[0m \u001b[0mKeyError\u001b[0m\u001b[0;34m:\u001b[0m\u001b[0;34m\u001b[0m\u001b[0m\n\u001b[1;32m    984\u001b[0m           \u001b[0;32mpass\u001b[0m\u001b[0;34m\u001b[0m\u001b[0m\n\u001b[0;32m--> 985\u001b[0;31m       \u001b[0;32mraise\u001b[0m \u001b[0mtype\u001b[0m\u001b[0;34m(\u001b[0m\u001b[0me\u001b[0m\u001b[0;34m)\u001b[0m\u001b[0;34m(\u001b[0m\u001b[0mnode_def\u001b[0m\u001b[0;34m,\u001b[0m \u001b[0mop\u001b[0m\u001b[0;34m,\u001b[0m \u001b[0mmessage\u001b[0m\u001b[0;34m)\u001b[0m\u001b[0;34m\u001b[0m\u001b[0m\n\u001b[0m\u001b[1;32m    986\u001b[0m \u001b[0;34m\u001b[0m\u001b[0m\n\u001b[1;32m    987\u001b[0m   \u001b[0;32mdef\u001b[0m \u001b[0m_extend_graph\u001b[0m\u001b[0;34m(\u001b[0m\u001b[0mself\u001b[0m\u001b[0;34m)\u001b[0m\u001b[0;34m:\u001b[0m\u001b[0;34m\u001b[0m\u001b[0m\n",
      "\u001b[0;31mFailedPreconditionError\u001b[0m: Attempting to use uninitialized value y\n\t [[Node: _send_y_0 = _Send[T=DT_INT32, client_terminated=true, recv_device=\"/job:localhost/replica:0/task:0/cpu:0\", send_device=\"/job:localhost/replica:0/task:0/cpu:0\", send_device_incarnation=-6536330151279835044, tensor_name=\"y:0\", _device=\"/job:localhost/replica:0/task:0/cpu:0\"](y)]]"
     ]
    }
   ],
   "source": [
    "sess = tf.Session()\n",
    "result = sess.run(y)\n",
    "print(result)"
   ]
  },
  {
   "cell_type": "markdown",
   "metadata": {},
   "source": [
    "그런데 위의 코드를 실행시켜보면 에러가 난다. 이는 변수의 경우 초기화하는 연산을 먼저 수행해야 하기 때문이다. 아래 코드는 변수의 초기화를 먼저 수행하여 에러가 나지 않음. 여기서 초기화되는 변수는 위에서 tf.Variable형인 y이다."
   ]
  },
  {
   "cell_type": "code",
   "execution_count": 18,
   "metadata": {
    "collapsed": false
   },
   "outputs": [
    {
     "name": "stdout",
     "output_type": "stream",
     "text": [
      "10\n"
     ]
    }
   ],
   "source": [
    "sess = tf.Session()\n",
    "init = tf.initialize_all_variables()  #변수들을 초기화하는 연산을 정의함\n",
    "sess.run(init)   # 변수의 초기화를 먼저 수행함. \n",
    "result = sess.run(y)\n",
    "print(result)"
   ]
  },
  {
   "cell_type": "markdown",
   "metadata": {},
   "source": [
    "### Placeholder(플레이스홀더)"
   ]
  },
  {
   "cell_type": "markdown",
   "metadata": {},
   "source": [
    "플레이스 홀더란 (나중에 주로 훈련용으로 사용될) 입력데이타를 넣는 변수이다. 이때의 입력데이타는 세션을 run하는 시점에서 feeding(입력)된다."
   ]
  },
  {
   "cell_type": "code",
   "execution_count": 19,
   "metadata": {
    "collapsed": false
   },
   "outputs": [
    {
     "name": "stdout",
     "output_type": "stream",
     "text": [
      "[  2.   4.   6.   8.  10.]\n",
      "[  6.  10.  14.  18.  22.]\n"
     ]
    }
   ],
   "source": [
    "import tensorflow as tf\n",
    "input_data = [1,2,3,4,5]\n",
    "input_data2 = [3,5,7,9,11]\n",
    "\n",
    "x = tf.placeholder(dtype=tf.float32)\n",
    "y = x * 2  #여기서 y는 Variables으로 선언되지 않았기 때문에 이후에 이를 먼저 초기화하지 않아도 에러가 안남\n",
    "\n",
    "sess = tf.Session()\n",
    "\n",
    "result = sess.run(y,feed_dict={x:input_data})\n",
    "print (result)\n",
    "\n",
    "# 입력데이타를 바꿔서 피딩한 후에 다시 run시키면 출력결과가 달라진다.\n",
    "result = sess.run(y,feed_dict={x:input_data2})  \n",
    "print (result)"
   ]
  },
  {
   "cell_type": "markdown",
   "metadata": {},
   "source": [
    "이번에 다시 Variable을 사용하여 돌려보자. 밑의 코드에서 주의해야 할 점은 W에 2라는 값이 지정이 되려면 먼저 변수를 초기화시키는 명령문을 한번 돌려야 한다는 것이다."
   ]
  },
  {
   "cell_type": "code",
   "execution_count": 20,
   "metadata": {
    "collapsed": false
   },
   "outputs": [
    {
     "name": "stdout",
     "output_type": "stream",
     "text": [
      "[  2.   4.   6.   8.  10.]\n"
     ]
    }
   ],
   "source": [
    "import tensorflow as tf\n",
    "input_data = [1,2,3,4,5]\n",
    "x = tf.placeholder(dtype=tf.float32)\n",
    "W = tf.Variable([2],dtype=tf.float32) #W에 2라는 값이 지정되려면 세션을 돌리기 전에 변수를 초기화해야 한다.\n",
    "y = W*x\n",
    "\n",
    "sess = tf.Session()\n",
    "\n",
    "init = tf.initialize_all_variables() #변수를 초기화하는 과정\n",
    "sess.run(init)\n",
    "\n",
    "result = sess.run(y,feed_dict={x:input_data})\n",
    "\n",
    "print(result)"
   ]
  },
  {
   "cell_type": "markdown",
   "metadata": {
    "collapsed": true
   },
   "source": [
    "## 연습 #1 : 원하는 연산을 정의하고 출력해보기 (10분)"
   ]
  },
  {
   "cell_type": "code",
   "execution_count": 3,
   "metadata": {
    "collapsed": true
   },
   "outputs": [],
   "source": [
    "## 연습 #1"
   ]
  },
  {
   "cell_type": "markdown",
   "metadata": {},
   "source": [
    "## 행렬"
   ]
  },
  {
   "cell_type": "markdown",
   "metadata": {},
   "source": [
    "다음 코드는 그림과 같은 1x3 상수벡터를 3x1상수벡터와 곱하는 예를 보이고 있다.\n",
    "\n",
    "![title](img/Day1-1-2.png)"
   ]
  },
  {
   "cell_type": "code",
   "execution_count": 21,
   "metadata": {
    "collapsed": false
   },
   "outputs": [
    {
     "name": "stdout",
     "output_type": "stream",
     "text": [
      "x벡터의 형태:\n",
      "(1, 3)\n",
      "w벡터의 형태:\n",
      "(3, 1)\n",
      "x와 w벡터의 곱:\n",
      "[[ 12.]]\n"
     ]
    }
   ],
   "source": [
    "import tensorflow as tf\n",
    "x = tf.constant([[1.0,2.0,3.0]] )        # 1x3 상수 벡터\n",
    "print('x벡터의 형태:')\n",
    "print(x.get_shape())\n",
    "\n",
    "w = tf.constant([ [2.0],[2.0],[2.0] ])    # 3x1 상수 벡터\n",
    "print('w벡터의 형태:')\n",
    "print(w.get_shape())\n",
    "\n",
    "y = tf.matmul(x,w)                        # x벡터와 w벡터의 곱(내적)    \n",
    "\n",
    "sess = tf.Session()\n",
    "init = tf.initialize_all_variables() #변수를 초기화하는 과정\n",
    "sess.run(init)\n",
    "result = sess.run(y)\n",
    "\n",
    "print('x와 w벡터의 곱:')\n",
    "print(result)"
   ]
  },
  {
   "cell_type": "markdown",
   "metadata": {},
   "source": [
    "다음은 3x3행렬을 3x1행렬과 곱하는 예를 보이고 있다.\n",
    "\n",
    "![title](img/Day1-1-3.png)\n",
    "\n",
    "코드는 다음과 같다:"
   ]
  },
  {
   "cell_type": "code",
   "execution_count": 22,
   "metadata": {
    "collapsed": false
   },
   "outputs": [
    {
     "name": "stdout",
     "output_type": "stream",
     "text": [
      "[[ 12.]\n",
      " [ 12.]\n",
      " [ 18.]]\n"
     ]
    }
   ],
   "source": [
    "import tensorflow as tf\n",
    "input_data = [ [1.,2.,3.],[1.,2.,3.],[2.,3.,4.] ] #3x3 matrix\n",
    "\n",
    "x = tf.placeholder(dtype=tf.float32,shape=[None,3])\n",
    "w = tf.Variable([ [2.],[2.],[2.] ], dtype = tf.float32) #3x1 matrix\n",
    "y = tf.matmul(x,w)\n",
    "\n",
    "sess = tf.Session()\n",
    "\n",
    "init = tf.initialize_all_variables() #변수를 초기화하는 과정\n",
    "sess.run(init)\n",
    "\n",
    "result = sess.run(y,feed_dict={x:input_data})\n",
    "\n",
    "print (result)"
   ]
  },
  {
   "cell_type": "markdown",
   "metadata": {},
   "source": [
    "위에서 x행렬의 크기가 Nonex3으로 정의되어 있는데, 여기서 Nonex3이란 세션을 run시킬 때 입력되는 행렬의 크기가 1x3, 2x3, 3x3,....100x3 등 None에 해당하는 열의 크기가 임의의 크기라도 다 될 수 있다는 뜻이다. 즉, 밑의 코드처럼 x의 입력으로 3x3행렬을 feed할 수도 있지만, 1x3행렬을 feed할 수도 있다:"
   ]
  },
  {
   "cell_type": "code",
   "execution_count": 23,
   "metadata": {
    "collapsed": false
   },
   "outputs": [
    {
     "name": "stdout",
     "output_type": "stream",
     "text": [
      "[[ 12.]\n",
      " [ 12.]\n",
      " [ 18.]]\n",
      "[[ 12.]]\n"
     ]
    }
   ],
   "source": [
    "import tensorflow as tf\n",
    "input_data1 = [ [1.,2.,3.],[1.,2.,3.],[2.,3.,4.] ] #3x3 matrix\n",
    "input_data2 = [[1.,2.,3.]] #1x3 matrix\n",
    "x = tf.placeholder(dtype=tf.float32,shape=[None,3])\n",
    "w = tf.Variable([ [2.],[2.],[2.] ], dtype = tf.float32) #3x1 matrix\n",
    "y = tf.matmul(x,w)\n",
    "\n",
    "sess = tf.Session()\n",
    "\n",
    "init = tf.initialize_all_variables() #변수를 초기화하는 과정\n",
    "sess.run(init)\n",
    "\n",
    "result1 = sess.run(y,feed_dict={x:input_data1})\n",
    "print (result1)\n",
    "\n",
    "result2 = sess.run(y,feed_dict={x:input_data2})\n",
    "print(result2)"
   ]
  },
  {
   "cell_type": "markdown",
   "metadata": {},
   "source": [
    "이는 입력되는 데이타셋의 크기에 상관없이 코드가 돌아갈 수 있게 하기 위한 것이다."
   ]
  },
  {
   "cell_type": "markdown",
   "metadata": {},
   "source": [
    "## 브로드캐스팅 (Broadcasting)"
   ]
  },
  {
   "cell_type": "code",
   "execution_count": 24,
   "metadata": {
    "collapsed": false
   },
   "outputs": [
    {
     "name": "stdout",
     "output_type": "stream",
     "text": [
      "(2, 3)\n",
      "[[ 10.]\n",
      " [ 16.]]\n"
     ]
    }
   ],
   "source": [
    "import tensorflow as tf\n",
    "input_data = [\n",
    "     [1,1,1],[2,2,2]\n",
    "    ]\n",
    "x = tf.placeholder(dtype=tf.float32,shape=[2,3])  # 2x3행렬\n",
    "w  =tf.Variable([[2],[2],[2]],dtype=tf.float32)  # 3x1행렬\n",
    "b  =tf.Variable([4],dtype=tf.float32)            # 1x1행렬\n",
    "y = tf.matmul(x,w)+b    # 2x3행렬 곱하기 3x1행렬 + 1x1행렬 : 브로드캐스팅에 의해 1x1행렬-> 2x1행렬로 늘어남.\n",
    "\n",
    "print (x.get_shape())\n",
    "sess = tf.Session()\n",
    "init = tf.initialize_all_variables() #변수를 초기화하는 과정\n",
    "sess.run(init)\n",
    "result = sess.run(y,feed_dict={x:input_data})\n",
    "\n",
    "print (result)"
   ]
  },
  {
   "cell_type": "markdown",
   "metadata": {
    "collapsed": true
   },
   "source": [
    "위의 코드에서 x는 2x3행렬이고, w는 3x1행렬이다. 이 둘을 곱하면 2x1 행렬이 된다. 그런데 여기에 b행렬을 더하게 되는데, b는 1x1크기이기 때문에 원래는 더해질 수 없다. 이때 b행렬의 크기를 늘리게 된다. 이를 broadcasting이라고 한다. 여기서 broad란 넓다는 뜻으로 행렬의 크기를 늘릴 수는 있지만 줄이지는 못한다. 텐서플로에서 Broadcasting의 원리는 numpy array의 broadcasting의 원리를 그대로 따른다(http://scipy.github.io/old-wiki/pages/EricsBroadcastingDoc). broadcasting이 되려면 연산을 주도하는 축이 일치하거나, 1이어야 한다.  "
   ]
  },
  {
   "cell_type": "markdown",
   "metadata": {},
   "source": [
    "![title](img/broadcasting1.gif)\n",
    "\n",
    "위 그림은 4x3행렬과 1x3행렬의 더하기 연산을 시도하고 있다. 이때 더하기 연산은 행렬의 열원소에 대해 이루어지는데, 그러므로 열이 연산의 주축이라고 할 수 있고, 위에서 열의 갯수는 3으로 동일하다. 그러므로 broadcasting이 일어날 수 있고, 행을 복사하여 늘리는 broadcasting이 일어나게 된다."
   ]
  },
  {
   "cell_type": "code",
   "execution_count": 25,
   "metadata": {
    "collapsed": false
   },
   "outputs": [
    {
     "name": "stdout",
     "output_type": "stream",
     "text": [
      "[[  0.   1.   2.]\n",
      " [ 10.  11.  12.]\n",
      " [ 20.  21.  22.]\n",
      " [ 30.  31.  32.]]\n"
     ]
    }
   ],
   "source": [
    "#import tensorflow as tf\n",
    "\n",
    "a  =tf.Variable([[0,0,0],[10,10,10],[20,20,20],[30,30,30]],dtype=tf.float32)  # 4x3행렬\n",
    "b  =tf.Variable([[0,1,2]],dtype=tf.float32) # 1x4행렬  \n",
    "y  = a+b   # 4x3행렬 + 1x3행렬\n",
    "                                      #브로드캐스팅에 의해 1x3행렬-> 4x3행렬로 늘어남.\n",
    "sess = tf.Session()\n",
    "init = tf.initialize_all_variables() #변수를 초기화하는 과정\n",
    "sess.run(init)\n",
    "result = sess.run(y)\n",
    "\n",
    "print (result)"
   ]
  },
  {
   "cell_type": "markdown",
   "metadata": {},
   "source": [
    "또는 행의 갯수가 맞춰져 있으면 자동으로 열의 갯수를 맞추는 broadcasting도 일어난다."
   ]
  },
  {
   "cell_type": "code",
   "execution_count": 26,
   "metadata": {
    "collapsed": false
   },
   "outputs": [
    {
     "name": "stdout",
     "output_type": "stream",
     "text": [
      "[[  0.   0.   0.]\n",
      " [ 10.  10.  10.]\n",
      " [ 20.  20.  20.]\n",
      " [ 30.  30.  30.]]\n"
     ]
    }
   ],
   "source": [
    "import tensorflow as tf\n",
    "\n",
    "a  =tf.Variable([[0,0,0],[10,10,10],[20,20,20],[30,30,30]],dtype=tf.float32)  # 4x3행렬\n",
    "b  =tf.Variable([[0],[0],[0],[0]],dtype=tf.float32) # 4x1행렬  \n",
    "y  = a+b   # 4x3행렬 + 4x1행렬\n",
    "                                      #브로드캐스팅에 의해 4x1행렬-> 4x3행렬로 늘어남.\n",
    "sess = tf.Session()\n",
    "init = tf.initialize_all_variables() #변수를 초기화하는 과정\n",
    "sess.run(init)\n",
    "result = sess.run(y)\n",
    "\n",
    "print (result)"
   ]
  },
  {
   "cell_type": "markdown",
   "metadata": {},
   "source": [
    "![그림2](img/broadcasting2.gif)\n",
    "\n",
    "반면, 위 그림은 4x3행렬과 1x4행렬의 더하기 연산을 시도하는데, 더하기가 되어야 하는 열원소의 갯수 또는 행의 원소의 갯수가 동일하지 않기 때문에 broadcasting이 일어날 수 없다. \n",
    "\n",
    "![title](img/broadcasting3.gif)\n",
    "\n",
    "그러나 예외적으로 위 그림은 4x1행렬과 1x3행렬의 더하기 연산을 시도하는데, 열, 행의 갯수가 모두 맞지 않지만 각각의 크기가 1이기 때문에 그림과 같은 broadcasting이 일어난다. 이를 외적이라고 부른다.\n"
   ]
  },
  {
   "cell_type": "code",
   "execution_count": 27,
   "metadata": {
    "collapsed": false
   },
   "outputs": [
    {
     "name": "stdout",
     "output_type": "stream",
     "text": [
      "[[  0.   1.   2.]\n",
      " [ 10.  11.  12.]\n",
      " [ 20.  21.  22.]\n",
      " [ 30.  31.  32.]]\n"
     ]
    }
   ],
   "source": [
    "import tensorflow as tf\n",
    "\n",
    "a  =tf.Variable([[0],[10],[20],[30]],dtype=tf.float32)  # 4x1행렬\n",
    "b  =tf.Variable([[0,1,2]],dtype=tf.float32) # 1x3행렬  \n",
    "y  =a+b # 4x1행렬 + 1x3행렬\n",
    "        #브로드캐스팅에 의해 4x1행렬-> 4x3행렬, 1x3행렬-> 4x3행렬로 각각 늘어남.\n",
    "sess = tf.Session()\n",
    "init = tf.initialize_all_variables() #변수를 초기화하는 과정\n",
    "sess.run(init)\n",
    "result = sess.run(y)\n",
    "\n",
    "print (result)"
   ]
  },
  {
   "cell_type": "markdown",
   "metadata": {},
   "source": [
    "## 연습 #2 : Broadcasting 연습"
   ]
  },
  {
   "cell_type": "code",
   "execution_count": null,
   "metadata": {
    "collapsed": true
   },
   "outputs": [],
   "source": [
    "## 연습 #2"
   ]
  }
 ],
 "metadata": {
  "anaconda-cloud": {},
  "kernelspec": {
   "display_name": "Python [default]",
   "language": "python",
   "name": "python3"
  },
  "language_info": {
   "codemirror_mode": {
    "name": "ipython",
    "version": 3
   },
   "file_extension": ".py",
   "mimetype": "text/x-python",
   "name": "python",
   "nbconvert_exporter": "python",
   "pygments_lexer": "ipython3",
   "version": "3.5.2"
  }
 },
 "nbformat": 4,
 "nbformat_minor": 1
}
