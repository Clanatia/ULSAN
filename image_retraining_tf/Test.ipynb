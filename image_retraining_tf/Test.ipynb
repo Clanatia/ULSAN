{
 "cells": [
  {
   "cell_type": "code",
   "execution_count": 8,
   "metadata": {
    "collapsed": false
   },
   "outputs": [
    {
     "name": "stdout",
     "output_type": "stream",
     "text": [
      "['iu', 'smoking', 'suji']\n",
      "(1, 3)\n",
      "[1 2 0]\n",
      "1\n",
      "smoking (score = 0.92020)\n",
      "2\n",
      "suji (score = 0.05880)\n",
      "0\n",
      "iu (score = 0.02101)\n"
     ]
    }
   ],
   "source": [
    "import tensorflow as tf\n",
    "import sys\n",
    "\n",
    "# change this as you see fit\n",
    "image_path = \"fox.jpg\"\n",
    "\n",
    "# Read in the image_data\n",
    "image_data = tf.gfile.FastGFile(image_path, 'rb').read()\n",
    "#if opencv\n",
    "#import cv2\n",
    "#image_data = cv2.imread(image_path)\n",
    "\n",
    "# Loads label file, strips off carriage return\n",
    "label_lines = [line.rstrip() for line in tf.gfile.GFile(\"retrained_labels.txt\")]\n",
    "print(label_lines)\n",
    "\n",
    "# Unpersists graph from file\n",
    "with tf.gfile.FastGFile(\"retrained_graph.pb\", 'rb') as f:\n",
    "    graph_def = tf.GraphDef()\n",
    "    graph_def.ParseFromString(f.read())\n",
    "    _ = tf.import_graph_def(graph_def, name='')\n",
    "    g = tf.get_default_graph()\n",
    "    #print([op.name for op in g.get_operations()])\n",
    "\n",
    "with tf.Session() as sess:\n",
    "    # Feed the image_data as input to the graph and get first prediction\n",
    "    softmax_tensor = sess.graph.get_tensor_by_name('final_result:0')\n",
    "    \n",
    "    predictions = sess.run(softmax_tensor, {'DecodeJpeg/contents:0': image_data})\n",
    "    \n",
    "    print(predictions.shape)\n",
    "    # Sort to show labels of first prediction in order of confidence\n",
    "    top_k = predictions[0].argsort()[-len(predictions[0]):][::-1]\n",
    "    print(top_k)\n",
    "    \n",
    "    for node_id in top_k:\n",
    "        print(node_id)\n",
    "        human_string = label_lines[node_id]\n",
    "        score = predictions[0][node_id]\n",
    "        print('%s (score = %.5f)' % (human_string, score))"
   ]
  },
  {
   "cell_type": "code",
   "execution_count": null,
   "metadata": {
    "collapsed": true
   },
   "outputs": [],
   "source": []
  }
 ],
 "metadata": {
  "anaconda-cloud": {},
  "kernelspec": {
   "display_name": "Python [default]",
   "language": "python",
   "name": "python3"
  },
  "language_info": {
   "codemirror_mode": {
    "name": "ipython",
    "version": 3
   },
   "file_extension": ".py",
   "mimetype": "text/x-python",
   "name": "python",
   "nbconvert_exporter": "python",
   "pygments_lexer": "ipython3",
   "version": "3.5.2"
  }
 },
 "nbformat": 4,
 "nbformat_minor": 1
}
